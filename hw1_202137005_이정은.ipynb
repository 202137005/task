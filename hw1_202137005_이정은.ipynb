{
 "cells": [
  {
   "cell_type": "code",
   "execution_count": 7,
   "id": "096258fa-7c8a-47e9-bc1c-4674feb60145",
   "metadata": {},
   "outputs": [],
   "source": [
    "lovely_loveseat_description=\"Lovely Loveseat. Tufted polyester blend on wood. 32 inches high x 40 inches wide x 30 inches deep. Red or white.\""
   ]
  },
  {
   "cell_type": "code",
   "execution_count": 8,
   "id": "584c9f50-3069-4025-8551-96c23d432326",
   "metadata": {},
   "outputs": [],
   "source": [
    "lovely_loveseat_price=254.00"
   ]
  },
  {
   "cell_type": "code",
   "execution_count": 9,
   "id": "45ef7b88-f3a8-4db7-a990-61cd5c582684",
   "metadata": {},
   "outputs": [],
   "source": [
    "stylish_settee_description=\"Stylish Settee. Faux leather on birch. 29.50 inches high x 54.75 inches wide x 28 inches deep. Black.\""
   ]
  },
  {
   "cell_type": "code",
   "execution_count": 10,
   "id": "3a1dc87f-2568-4507-bf1f-db0eb0160f9b",
   "metadata": {},
   "outputs": [],
   "source": [
    "stylish_settee_price=180.50"
   ]
  },
  {
   "cell_type": "code",
   "execution_count": 12,
   "id": "0acd4940-e53f-4bab-8012-60995c142530",
   "metadata": {},
   "outputs": [],
   "source": [
    "luxurious_lamp_description=\"Luxurious Lamp. Glass and iron. 36 inches tall. Brown with cream shade.\""
   ]
  },
  {
   "cell_type": "code",
   "execution_count": 13,
   "id": "7f776e3e-17d7-4aae-84f2-096a7155459c",
   "metadata": {},
   "outputs": [],
   "source": [
    "luxurious_lamp_price=52.15"
   ]
  },
  {
   "cell_type": "code",
   "execution_count": 14,
   "id": "1dd30824-c8bd-4b6e-9118-65e101af6d48",
   "metadata": {},
   "outputs": [],
   "source": [
    "sales_tax=.088"
   ]
  },
  {
   "cell_type": "code",
   "execution_count": 28,
   "id": "f849c46a-0958-474d-b99f-ece6d7e24c5b",
   "metadata": {},
   "outputs": [],
   "source": [
    "customer_one_itemization=lovely_loveseat_description+luxurious_lamp_description"
   ]
  },
  {
   "cell_type": "code",
   "execution_count": 23,
   "id": "fcd9cc90-dc2d-4299-92f8-619bcafca105",
   "metadata": {},
   "outputs": [],
   "source": [
    "customer_one_total=lovely_loveseat_price + luxurious_lamp_price"
   ]
  },
  {
   "cell_type": "code",
   "execution_count": 22,
   "id": "896034dc-0b38-4ed9-82a2-517faf2f54a7",
   "metadata": {},
   "outputs": [],
   "source": [
    "customer_one_tax=customer_one_total * sales_tax"
   ]
  },
  {
   "cell_type": "code",
   "execution_count": 33,
   "id": "866cf70d-864a-4838-8575-159a074b0b2b",
   "metadata": {},
   "outputs": [
    {
     "name": "stdout",
     "output_type": "stream",
     "text": [
      "Customer One Items: Lovely Loveseat. Tufted polyester blend on wood. 32 inches high x 40 inches wide x 30 inches deep. Red or white.Luxurious Lamp. Glass and iron. 36 inches tall. Brown with cream shade. Customer One Total: 306.15\n"
     ]
    }
   ],
   "source": [
    "print(\"Customer One Items:\",\n",
    "      customer_one_itemization,\n",
    "      \"Customer One Total:\",\n",
    "      customer_one_total)"
   ]
  }
 ],
 "metadata": {
  "kernelspec": {
   "display_name": "Python 3 (ipykernel)",
   "language": "python",
   "name": "python3"
  },
  "language_info": {
   "codemirror_mode": {
    "name": "ipython",
    "version": 3
   },
   "file_extension": ".py",
   "mimetype": "text/x-python",
   "name": "python",
   "nbconvert_exporter": "python",
   "pygments_lexer": "ipython3",
   "version": "3.9.12"
  }
 },
 "nbformat": 4,
 "nbformat_minor": 5
}

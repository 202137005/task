{
 "cells": [
  {
   "cell_type": "code",
   "execution_count": 1,
   "id": "b01ed8d6-3515-481c-8dd8-15caa0999c3f",
   "metadata": {},
   "outputs": [],
   "source": [
    "subjects=[\"physics\",\"calculus\",\"poetry\",\"hitory\"]"
   ]
  },
  {
   "cell_type": "code",
   "execution_count": 2,
   "id": "67cd2122-a8f5-4390-aa04-5d2027aae019",
   "metadata": {},
   "outputs": [],
   "source": [
    "grades=[98, 97, 85, 88]"
   ]
  },
  {
   "cell_type": "code",
   "execution_count": 3,
   "id": "733fbe0c-f576-4614-a314-1b0200ca0841",
   "metadata": {},
   "outputs": [],
   "source": [
    "gradebook=[[\"physics\",98],[\"calculus\",97],[\"poetry\",85],[\"history\",88]]"
   ]
  },
  {
   "cell_type": "code",
   "execution_count": 4,
   "id": "d5dc3c41-0473-4884-a2ac-374e69a13113",
   "metadata": {},
   "outputs": [
    {
     "name": "stdout",
     "output_type": "stream",
     "text": [
      "[['physics', 98], ['calculus', 97], ['poetry', 85], ['history', 88]]\n"
     ]
    }
   ],
   "source": [
    "print(gradebook)"
   ]
  },
  {
   "cell_type": "code",
   "execution_count": 5,
   "id": "0c717ecb-a2e6-492b-be2c-107df856fe2d",
   "metadata": {},
   "outputs": [
    {
     "name": "stdout",
     "output_type": "stream",
     "text": [
      "[['physics', 98], ['calculus', 97], ['poetry', 85], ['history', 88], ['computer science', 100], ['visual arts', 98]]\n"
     ]
    }
   ],
   "source": [
    "subjects.append(\"computer science\")\n",
    "subjects.append(\"visual art\")\n",
    "grades.append(100)\n",
    "grades.append(98)\n",
    "gradebook.append([\"computer science\",100])\n",
    "gradebook.append([\"visual arts\",98])\n",
    "\n",
    "print(gradebook)"
   ]
  },
  {
   "cell_type": "code",
   "execution_count": 6,
   "id": "c4bded26-6470-4828-bdee-03cb8d857c44",
   "metadata": {},
   "outputs": [],
   "source": [
    "gradebook.remove([\"poetry\",85])"
   ]
  },
  {
   "cell_type": "code",
   "execution_count": 8,
   "id": "e24e1e7f-0e5a-4491-8a1d-1ec5df85f721",
   "metadata": {},
   "outputs": [],
   "source": [
    "gradebook.append([\"poetry\",\"Pass\"])"
   ]
  },
  {
   "cell_type": "code",
   "execution_count": 9,
   "id": "455b8410-ba1f-422a-806f-f2a0c985f273",
   "metadata": {},
   "outputs": [
    {
     "name": "stdout",
     "output_type": "stream",
     "text": [
      "[['physics', 98], ['calculus', 97], ['history', 88], ['computer science', 100], ['visual arts', 98], ['poetry', 'Pass']]\n"
     ]
    }
   ],
   "source": [
    "print(gradebook)"
   ]
  }
 ],
 "metadata": {
  "kernelspec": {
   "display_name": "Python 3 (ipykernel)",
   "language": "python",
   "name": "python3"
  },
  "language_info": {
   "codemirror_mode": {
    "name": "ipython",
    "version": 3
   },
   "file_extension": ".py",
   "mimetype": "text/x-python",
   "name": "python",
   "nbconvert_exporter": "python",
   "pygments_lexer": "ipython3",
   "version": "3.9.12"
  }
 },
 "nbformat": 4,
 "nbformat_minor": 5
}
